{
 "cells": [
  {
   "cell_type": "markdown",
   "source": [
    "# Forecasting Net Prophet\n",
    "\n",
    "You’re a growth analyst at [MercadoLibre](http://investor.mercadolibre.com/investor-relations). With over 200 million users, MercadoLibre is the most popular e-commerce site in Latin America. You've been tasked with analyzing the company's financial and user data in clever ways to make the company grow. So, you want to find out if the ability to predict search traffic can translate into the ability to successfully trade the stock.\n",
    "\n",
    "Instructions\n",
    "\n",
    "This section divides the instructions for this Challenge into four steps and an optional fifth step, as follows:\n",
    "\n",
    "* Step 1: Find unusual patterns in hourly Google search traffic\n",
    "\n",
    "* Step 2: Mine the search traffic data for seasonality\n",
    "\n",
    "* Step 3: Relate the search traffic to stock price patterns\n",
    "\n",
    "* Step 4: Create a time series model with Prophet\n",
    "\n",
    "* Step 5 (optional): Forecast revenue by using time series models\n",
    "\n",
    "The following subsections detail these steps.\n",
    "\n",
    "## Step 1: Find Unusual Patterns in Hourly Google Search Traffic\n",
    "\n",
    "The data science manager asks if the Google search traffic for the company links to any financial events at the company. Or, does the search traffic data just present random noise? To answer this question, pick out any unusual patterns in the Google search data for the company, and connect them to the corporate financial events.\n",
    "\n",
    "To do so, complete the following steps:\n",
    "\n",
    "1. Read the search data into a DataFrame, and then slice the data to just the month of May 2020. (During this month, MercadoLibre released its quarterly financial results.) Use hvPlot to visualize the results. Do any unusual patterns exist?\n",
    "\n",
    "2. Calculate the total search traffic for the month, and then compare the value to the monthly median across all months. Did the Google search traffic increase during the month that MercadoLibre released its financial results?\n",
    "\n",
    "## Step 2: Mine the Search Traffic Data for Seasonality\n",
    "\n",
    "Marketing realizes that they can use the hourly search data, too. If they can track and predict interest in the company and its platform for any time of day, they can focus their marketing efforts around the times that have the most traffic. This will get a greater return on investment (ROI) from their marketing budget.\n",
    "\n",
    "To that end, you want to mine the search traffic data for predictable seasonal patterns of interest in the company. To do so, complete the following steps:\n",
    "\n",
    "1. Group the hourly search data to plot the average traffic by the day of the week (for example, Monday vs. Friday).\n",
    "\n",
    "2. Using hvPlot, visualize this traffic as a heatmap, referencing the `index.hour` as the x-axis and the `index.dayofweek` as the y-axis. Does any day-of-week effect that you observe concentrate in just a few hours of that day?\n",
    "\n",
    "3. Group the search data by the week of the year. Does the search traffic tend to increase during the winter holiday period (weeks 40 through 52)?\n",
    "\n",
    "## Step 3: Relate the Search Traffic to Stock Price Patterns\n",
    "\n",
    "You mention your work on the search traffic data during a meeting with people in the finance group at the company. They want to know if any relationship between the search data and the company stock price exists, and they ask if you can investigate.\n",
    "\n",
    "To do so, complete the following steps:\n",
    "\n",
    "1. Read in and plot the stock price data. Concatenate the stock price data to the search data in a single DataFrame.\n",
    "\n",
    "2. Market events emerged during the year of 2020 that many companies found difficult. But, after the initial shock to global financial markets, new customers and revenue increased for e-commerce platforms. Slice the data to just the first half of 2020 (`2020-01` to `2020-06` in the DataFrame), and then use hvPlot to plot the data. Do both time series indicate a common trend that’s consistent with this narrative?\n",
    "\n",
    "3. Create a new column in the DataFrame named “Lagged Search Trends” that offsets, or shifts, the search traffic by one hour. Create two additional columns:\n",
    "\n",
    "    * “Stock Volatility”, which holds an exponentially weighted four-hour rolling average of the company’s stock volatility\n",
    "\n",
    "    * “Hourly Stock Return”, which holds the percent change of the company's stock price on an hourly basis\n",
    "\n",
    "4. Review the time series correlation, and then answer the following question: Does a predictable relationship exist between the lagged search traffic and the stock volatility or between the lagged search traffic and the stock price returns?\n",
    "\n",
    "## Step 4: Create a Time Series Model with Prophet\n",
    "\n",
    "Now, you need to produce a time series model that analyzes and forecasts patterns in the hourly search data. To do so, complete the following steps:\n",
    "\n",
    "1. Set up the Google search data for a Prophet forecasting model.\n",
    "\n",
    "2. After estimating the model, plot the forecast. How's the near-term forecast for the popularity of MercadoLibre?\n",
    "\n",
    "3. Plot the individual time series components of the model to answer the following questions:\n",
    "\n",
    "    * What time of day exhibits the greatest popularity?\n",
    "\n",
    "    * Which day of the week gets the most search traffic?\n",
    "\n",
    "    * What's the lowest point for search traffic in the calendar year?\n",
    "\n",
    "## Step 5 (Optional): Forecast Revenue by Using Time Series Models\n",
    "\n",
    "A few weeks after your initial analysis, the finance group follows up to find out if you can help them solve a different problem. Your fame as a growth analyst in the company continues to grow!\n",
    "\n",
    "Specifically, the finance group wants a forecast of the total sales for the next quarter. This will dramatically increase their ability to plan budgets and to help guide expectations for the company investors.\n",
    "\n",
    "To do so, complete the following steps:\n",
    "\n",
    "1. Read in the daily historical sales (that is, revenue) figures, and then apply a Prophet model to the data.\n",
    "\n",
    "2. Interpret the model output to identify any seasonal patterns in the company's revenue. For example, what are the peak revenue days? (Mondays? Fridays? Something else?)\n",
    "\n",
    "3. Produce a sales forecast for the finance group. Give them a number for the expected total sales in the next quarter. Include the best- and worst-case scenarios to help them make better plans.\n"
   ],
   "metadata": {}
  },
  {
   "cell_type": "markdown",
   "source": [
    "## Install and import the required libraries and dependencies"
   ],
   "metadata": {}
  },
  {
   "cell_type": "code",
   "execution_count": null,
   "source": [
    "# Install the required libraries\r\n",
    "from IPython.display import clear_output\r\n",
    "try:\r\n",
    "  !pip install pystan\r\n",
    "  !pip install fbprophet\r\n",
    "  !pip install hvplot\r\n",
    "  !pip install holoviews\r\n",
    "except:\r\n",
    "  print(\"Error installing libraries\")\r\n",
    "finally:\r\n",
    "  clear_output()\r\n",
    "  print('Libraries successfully installed')"
   ],
   "outputs": [],
   "metadata": {}
  },
  {
   "cell_type": "code",
   "execution_count": null,
   "source": [
    "# Import the required libraries and dependencies\r\n",
    "import pandas as pd\r\n",
    "import holoviews as hv\r\n",
    "from fbprophet import Prophet\r\n",
    "import hvplot.pandas\r\n",
    "import datetime as dt\r\n",
    "%matplotlib inline"
   ],
   "outputs": [],
   "metadata": {}
  },
  {
   "cell_type": "markdown",
   "source": [
    "## Step 1: Find Unusual Patterns in Hourly Google Search Traffic\n",
    "\n",
    "The data science manager asks if the Google search traffic for the company links to any financial events at the company. Or, does the search traffic data just present random noise? To answer this question, pick out any unusual patterns in the Google search data for the company, and connect them to the corporate financial events.\n",
    "\n",
    "To do so, complete the following steps:\n",
    "\n",
    "1. Read the search data into a DataFrame, and then slice the data to just the month of May 2020. (During this month, MercadoLibre released its quarterly financial results.) Use hvPlot to visualize the results. Do any unusual patterns exist?\n",
    "\n",
    "2. Calculate the total search traffic for the month, and then compare the value to the monthly median across all months. Did the Google search traffic increase during the month that MercadoLibre released its financial results?\n"
   ],
   "metadata": {}
  },
  {
   "cell_type": "markdown",
   "source": [
    "#### Step 1: Read the search data into a DataFrame, and then slice the data to just the month of May 2020. (During this month, MercadoLibre released its quarterly financial results.) Use hvPlot to visualize the results. Do any unusual patterns exist?"
   ],
   "metadata": {}
  },
  {
   "cell_type": "code",
   "execution_count": null,
   "source": [
    "# Upload the \"google_hourly_search_trends.csv\" file into Colab, then store in a Pandas DataFrame\r\n",
    "# Set the \"Date\" column as the Datetime Index.\r\n",
    "\r\n",
    "from google.colab import files\r\n",
    "uploaded = files.upload()\r\n",
    "\r\n",
    "df_mercado_trends = pd.read_csv(\r\n",
    "    \"google_hourly_search_trends.csv\", \r\n",
    "    index_col=\"Date\",\r\n",
    "    parse_dates=True, \r\n",
    "    infer_datetime_format=True\r\n",
    ")\r\n",
    "\r\n",
    "# Review the first and last five rows of the DataFrame\r\n",
    "display(df_mercado_trends.head())\r\n",
    "display(df_mercado_trends.tail())\r\n"
   ],
   "outputs": [],
   "metadata": {}
  },
  {
   "cell_type": "code",
   "execution_count": null,
   "source": [
    "# Review the data types of the DataFrame using the info function\r\n",
    "df_mercado_trends.info()\r\n"
   ],
   "outputs": [],
   "metadata": {}
  },
  {
   "cell_type": "code",
   "execution_count": null,
   "source": [
    "# Holoviews extension to render hvPlots in Colab\r\n",
    "hv.extension('bokeh')\r\n",
    "\r\n",
    "# Slice the DataFrame to just the month of May 2020\r\n",
    "df_may_2020 = df_mercado_trends.loc['2020-05']\r\n",
    "\r\n",
    "# Use hvPlot to visualize the data for May 2020\r\n",
    "df_may_2020.hvplot.line(\r\n",
    "    x=\"Date\",\r\n",
    "    y=\"Search Trends\",\r\n",
    "    ylabel= \"Daily Searches\",\r\n",
    "    title=\"Mercado Daily Search Trends - May 2020\",\r\n",
    "    width=500,\r\n",
    "    color=\"green\"\r\n",
    ")"
   ],
   "outputs": [],
   "metadata": {}
  },
  {
   "cell_type": "markdown",
   "source": [
    "#### Step 2: Calculate the total search traffic for the month, and then compare the value to the monthly median across all months. Did the Google search traffic increase during the month that MercadoLibre released its financial results?"
   ],
   "metadata": {}
  },
  {
   "cell_type": "code",
   "execution_count": null,
   "source": [
    "# Calculate the sum of the total search traffic for May 2020\r\n",
    "traffic_may_2020 = df_may_2020[\"Search Trends\"].sum()\r\n",
    "\r\n",
    "# View the traffic_may_2020 value\r\n",
    "traffic_may_2020"
   ],
   "outputs": [],
   "metadata": {}
  },
  {
   "cell_type": "code",
   "execution_count": null,
   "source": [
    "# Calcluate the monthly median search traffic across all months \r\n",
    "# Group the DataFrame by index year and then index month, chain the sum and then the median functions\r\n",
    "median_monthly_traffic = df_mercado_trends.groupby([df_mercado_trends.index.year, df_mercado_trends.index.month]).sum().median()\r\n",
    "\r\n",
    "# View the median_monthly_traffic value\r\n",
    "median_monthly_traffic\r\n"
   ],
   "outputs": [],
   "metadata": {}
  },
  {
   "cell_type": "code",
   "execution_count": null,
   "source": [
    "# Compare the seach traffic for the month of May 2020 to the overall monthly median value\r\n",
    "((traffic_may_2020 - median_monthly_traffic)/median_monthly_traffic) * 100"
   ],
   "outputs": [],
   "metadata": {}
  },
  {
   "cell_type": "markdown",
   "source": [
    "##### Answer the following question: "
   ],
   "metadata": {}
  },
  {
   "cell_type": "markdown",
   "source": [
    "**Question:** Did the Google search traffic increase during the month that MercadoLibre released its financial results?\r\n",
    "\r\n",
    "**Answer:** There appeared to be an 8.55% uptick in Google search traffic during the month that MercadoLibre released its financial results."
   ],
   "metadata": {}
  },
  {
   "cell_type": "markdown",
   "source": [
    "## Step 2: Mine the Search Traffic Data for Seasonality\n",
    "\n",
    "Marketing realizes that they can use the hourly search data, too. If they can track and predict interest in the company and its platform for any time of day, they can focus their marketing efforts around the times that have the most traffic. This will get a greater return on investment (ROI) from their marketing budget.\n",
    "\n",
    "To that end, you want to mine the search traffic data for predictable seasonal patterns of interest in the company. To do so, complete the following steps:\n",
    "\n",
    "1. Group the hourly search data to plot the average traffic by the day of the week (for example, Monday vs. Friday).\n",
    "\n",
    "2. Using hvPlot, visualize this traffic as a heatmap, referencing the `index.hour` as the x-axis and the `index.dayofweek` as the y-axis. Does any day-of-week effect that you observe concentrate in just a few hours of that day?\n",
    "\n",
    "3. Group the search data by the week of the year. Does the search traffic tend to increase during the winter holiday period (weeks 40 through 52)?\n"
   ],
   "metadata": {}
  },
  {
   "cell_type": "markdown",
   "source": [
    "#### Step 1: Group the hourly search data to plot the average traffic by the day of the week (for example, Monday vs. Friday)."
   ],
   "metadata": {}
  },
  {
   "cell_type": "code",
   "execution_count": null,
   "source": [
    "## Holoviews extension to render hvPlots in Colab\r\n",
    "hv.extension('bokeh')\r\n",
    "\r\n",
    "# Group the hourly search data to plot (use hvPlot) the average traffic by the day of week \r\n",
    "mercado_day_week = df_mercado_trends.groupby(df_mercado_trends.index.day_name()).mean()\r\n",
    "\r\n",
    "mercado_day_week.hvplot.bar(\r\n",
    "    color=\"green\"\r\n",
    ")\r\n",
    "\r\n",
    "# Still need to figure out how to use sort_date correctly"
   ],
   "outputs": [],
   "metadata": {}
  },
  {
   "cell_type": "markdown",
   "source": [
    "#### Step 2: Using hvPlot, visualize this traffic as a heatmap, referencing the `index.hour` as the x-axis and the `index.dayofweek` as the y-axis. Does any day-of-week effect that you observe concentrate in just a few hours of that day?"
   ],
   "metadata": {}
  },
  {
   "cell_type": "code",
   "execution_count": null,
   "source": [
    "# Holoviews extension to render hvPlots in Colab\r\n",
    "hv.extension('bokeh')\r\n",
    "\r\n",
    "# Use hvPlot to visualize the hour of the day and day of week search traffic as a heatmap.\r\n",
    "df_mercado_trends.hvplot.heatmap(\r\n",
    "    x=\"index.hour\",\r\n",
    "    xlabel=\"Hour of the Day\",\r\n",
    "    y=\"index.dayofweek\",\r\n",
    "    ylabel=\"Day of the Week\",\r\n",
    "    C=\"Search Trends\",\r\n",
    "    title=\"Hourly Traffic by Day of the Week\",\r\n",
    "    hover_color = \"#006994\",\r\n",
    "    cmap=\"greens\"\r\n",
    ")"
   ],
   "outputs": [],
   "metadata": {}
  },
  {
   "cell_type": "markdown",
   "source": [
    "##### Answer the following question:"
   ],
   "metadata": {}
  },
  {
   "cell_type": "markdown",
   "source": [
    "**Question:** Does any day-of-week effect that you observe concentrate in just a few hours of that day?\r\n",
    "\r\n",
    "**Answer:** Highest traffic is from 9:00PM to 3:00AM and lowest traffic is from 4:00AM to 9:00AM"
   ],
   "metadata": {}
  },
  {
   "cell_type": "markdown",
   "source": [
    "#### Step 3: Group the search data by the week of the year. Does the search traffic tend to increase during the winter holiday period (weeks 40 through 52)?"
   ],
   "metadata": {}
  },
  {
   "cell_type": "code",
   "execution_count": null,
   "source": [
    "# Holoviews extension to render hvPlots in Colab\r\n",
    "hv.extension('bokeh')\r\n",
    "\r\n",
    "# Group the hourly search data to plot (use hvPlot) the average traffic by the week of the year\r\n",
    "week_of_year = df_mercado_trends.groupby(df_mercado_trends.index.weekofyear).mean()\r\n",
    "\r\n",
    "week_of_year.hvplot.bar(\r\n",
    "    title=\"Average Traffic Each Week of the Year\",\r\n",
    "    x=\"Week of the Year\",\r\n",
    "    y=\"Search Trends\",\r\n",
    "    ylim=(30, 60),\r\n",
    "    color=\"green\",\r\n",
    "    hover_color=\"#006994\",\r\n",
    "    width=1000\r\n",
    ")"
   ],
   "outputs": [],
   "metadata": {}
  },
  {
   "cell_type": "markdown",
   "source": [
    "##### Answer the following question:"
   ],
   "metadata": {}
  },
  {
   "cell_type": "markdown",
   "source": [
    "**Question:** Does the search traffic tend to increase during the winter holiday period (weeks 40 through 52)?\r\n",
    "\r\n",
    "**Answer:** There is a clear upward trend through weeks 40 through 52."
   ],
   "metadata": {}
  },
  {
   "cell_type": "markdown",
   "source": [
    "## Step 3: Relate the Search Traffic to Stock Price Patterns\n",
    "\n",
    "You mention your work on the search traffic data during a meeting with people in the finance group at the company. They want to know if any relationship between the search data and the company stock price exists, and they ask if you can investigate.\n",
    "\n",
    "To do so, complete the following steps:\n",
    "\n",
    "1. Read in and plot the stock price data. Concatenate the stock price data to the search data in a single DataFrame.\n",
    "\n",
    "2. Market events emerged during the year of 2020 that many companies found difficult. But, after the initial shock to global financial markets, new customers and revenue increased for e-commerce platforms. Slice the data to just the first half of 2020 (`2020-01` to `2020-06` in the DataFrame), and then use hvPlot to plot the data. Do both time series indicate a common trend that’s consistent with this narrative?\n",
    "\n",
    "3. Create a new column in the DataFrame named “Lagged Search Trends” that offsets, or shifts, the search traffic by one hour. Create two additional columns:\n",
    "\n",
    "    * “Stock Volatility”, which holds an exponentially weighted four-hour rolling average of the company’s stock volatility\n",
    "\n",
    "    * “Hourly Stock Return”, which holds the percent change of the company's stock price on an hourly basis\n",
    "\n",
    "4. Review the time series correlation, and then answer the following question: Does a predictable relationship exist between the lagged search traffic and the stock volatility or between the lagged search traffic and the stock price returns?\n"
   ],
   "metadata": {}
  },
  {
   "cell_type": "markdown",
   "source": [
    "#### Step 1: Read in and plot the stock price data. Concatenate the stock price data to the search data in a single DataFrame."
   ],
   "metadata": {}
  },
  {
   "cell_type": "code",
   "execution_count": null,
   "source": [
    "# Upload the \"mercado_stock_price.csv\" file into Colab, then store in a Pandas DataFrame\r\n",
    "# Set the \"date\" column as the Datetime Index.\r\n",
    "from google.colab import files\r\n",
    "uploaded = files.upload()\r\n",
    "\r\n",
    "df_mercado_stock = pd.read_csv(\r\n",
    "    \"mercado_stock_price.csv\", \r\n",
    "    index_col=\"date\", \r\n",
    "    parse_dates=True, \r\n",
    "    infer_datetime_format=True\r\n",
    ")\r\n",
    "\r\n",
    "# View the first and last five rows of the DataFrame\r\n",
    "display(df_mercado_stock.head())\r\n",
    "display(df_mercado_stock.tail())"
   ],
   "outputs": [],
   "metadata": {}
  },
  {
   "cell_type": "code",
   "execution_count": null,
   "source": [
    "# Holoviews extension to render hvPlots in Colab\r\n",
    "hv.extension('bokeh')\r\n",
    "\r\n",
    "# Use hvPlot to visualize the closing price of the df_mercado_stock DataFrame\r\n",
    "df_mercado_stock.hvplot(\r\n",
    "    title=\"Mercado Closing Price: 2015 - 2020\",\r\n",
    "    width=1000,\r\n",
    "    color=\"green\"\r\n",
    ")"
   ],
   "outputs": [],
   "metadata": {}
  },
  {
   "cell_type": "code",
   "execution_count": null,
   "source": [
    "# Concatenate the df_mercado_stock DataFrame with the df_mercado_trends DataFrame\r\n",
    "# Concatenate the DataFrame by columns (axis=1), and drop and rows with only one column of data\r\n",
    "mercado_stock_trends_df = pd.concat([df_mercado_stock, df_mercado_trends], axis=1).dropna()\r\n",
    "\r\n",
    "# View the first and last five rows of the DataFrame\r\n",
    "display(mercado_stock_trends_df.head())\r\n",
    "display(mercado_stock_trends_df.tail())"
   ],
   "outputs": [],
   "metadata": {}
  },
  {
   "cell_type": "markdown",
   "source": [
    "#### Step 2: Market events emerged during the year of 2020 that many companies found difficult. But, after the initial shock to global financial markets, new customers and revenue increased for e-commerce platforms. Slice the data to just the first half of 2020 (`2020-01` to `2020-06` in the DataFrame), and then use hvPlot to plot the data. Do both time series indicate a common trend that’s consistent with this narrative?"
   ],
   "metadata": {}
  },
  {
   "cell_type": "code",
   "execution_count": null,
   "source": [
    "## For the combined dataframe, slice to just the first half of 2020 (2020-01 through 2020-06) \r\n",
    "first_half_2020 = mercado_stock_trends_df.loc[\"2020-01\":\"2020-06\"]\r\n",
    "\r\n",
    "# View the first and last five rows of first_half_2020 DataFrame\r\n",
    "display(first_half_2020.head())\r\n",
    "display(first_half_2020.tail())"
   ],
   "outputs": [],
   "metadata": {}
  },
  {
   "cell_type": "code",
   "execution_count": null,
   "source": [
    "# Holoviews extension to render hvPlots in Colab\r\n",
    "hv.extension('bokeh')\r\n",
    "\r\n",
    "# Use hvPlot to visualize the close and Search Trends data\r\n",
    "# Plot each column on a separate axes using the following syntax\r\n",
    "# `hvplot(shared_axes=False, subplots=True).cols(1)`\r\n",
    "# first_half_2020.hvplot(shared_axes=True, xlabel = \"Date\", y=['close', 'Search Trends'])  <---- Really want to make this work\r\n",
    "\r\n",
    "first_half_2020.hvplot(shared_axes=False, subplots=True, xlabel = 'Date', color=\"green\").cols(1)"
   ],
   "outputs": [],
   "metadata": {}
  },
  {
   "cell_type": "markdown",
   "source": [
    "##### Answer the following question:"
   ],
   "metadata": {}
  },
  {
   "cell_type": "markdown",
   "source": [
    "**Question:** Do both time series indicate a common trend that’s consistent with this narrative?\r\n",
    "\r\n",
    "**Answer:** There is a consistent trend all the way until May, after which the relationship ceases."
   ],
   "metadata": {}
  },
  {
   "cell_type": "markdown",
   "source": [
    "#### Step 3: Create a new column in the DataFrame named “Lagged Search Trends” that offsets, or shifts, the search traffic by one hour. Create two additional columns:\n",
    "\n",
    "* “Stock Volatility”, which holds an exponentially weighted four-hour rolling average of the company’s stock volatility\n",
    "\n",
    "* “Hourly Stock Return”, which holds the percent change of the company's stock price on an hourly basis\n"
   ],
   "metadata": {}
  },
  {
   "cell_type": "code",
   "execution_count": null,
   "source": [
    "## Create a new column in the mercado_stock_trends_df DataFrame called Lagged Search Trends\r\n",
    "# This column should shift the Search Trends information by one hour\r\n",
    "mercado_stock_trends_df['Lagged Search Trends'] = mercado_stock_trends_df[\"Search Trends\"].shift(1)"
   ],
   "outputs": [],
   "metadata": {}
  },
  {
   "cell_type": "code",
   "execution_count": null,
   "source": [
    "# Create a new column in the mercado_stock_trends_df DataFrame called Stock Volatility\r\n",
    "# This column should calculate the standard deviation of the closing stock price return data over a 4 period rolling window\r\n",
    "mercado_stock_trends_df[\"Stock Volatility\"] = mercado_stock_trends_df[\"close\"].pct_change().rolling(window=4).std()"
   ],
   "outputs": [],
   "metadata": {}
  },
  {
   "cell_type": "code",
   "execution_count": null,
   "source": [
    "# Holoviews extension to render hvPlots in Colab\r\n",
    "hv.extension('bokeh')\r\n",
    "\r\n",
    "# Use hvPlot to visualize the stock volatility\r\n",
    "mercado_stock_trends_df[\"Stock Volatility\"].rolling(26).mean().hvplot(\r\n",
    "    title=\"Mercado Stock Volatility - 2016 through 2020 - Use widget to select year\",\r\n",
    "    color=\"green\",\r\n",
    "    groupby=['index.year'],\r\n",
    "    widget_location='bottom'\r\n",
    ")"
   ],
   "outputs": [],
   "metadata": {}
  },
  {
   "cell_type": "markdown",
   "source": [
    "**Solution Note:** Note how volatility spiked, and tended to stay high, during the first half of 2020. This is a common characteristic of volatility in stock returns worldwide: high volatility days tend to be followed by yet more high volatility days. When it rains, it pours."
   ],
   "metadata": {}
  },
  {
   "cell_type": "code",
   "execution_count": null,
   "source": [
    "# Create a new column in the mercado_stock_trends_df DataFrame called Hourly Stock Return\r\n",
    "# This column should calculate hourly return percentage of the closing price\r\n",
    "mercado_stock_trends_df['Hourly Stock Return'] = mercado_stock_trends_df[\"close\"].pct_change()"
   ],
   "outputs": [],
   "metadata": {}
  },
  {
   "cell_type": "code",
   "execution_count": null,
   "source": [
    "# View the first and last five rows of the mercado_stock_trends_df DataFrame\r\n",
    "display(mercado_stock_trends_df.head())\r\n",
    "display(mercado_stock_trends_df.tail())"
   ],
   "outputs": [],
   "metadata": {}
  },
  {
   "cell_type": "markdown",
   "source": [
    "#### Step 4: Review the time series correlation, and then answer the following question: Does a predictable relationship exist between the lagged search traffic and the stock volatility or between the lagged search traffic and the stock price returns?"
   ],
   "metadata": {}
  },
  {
   "cell_type": "code",
   "execution_count": null,
   "source": [
    "# Construct correlation table of Stock Volatility, Lagged Search Trends, and Hourly Stock Return\r\n",
    "mercado_stock_trends_df[[\"Stock Volatility\", \"Lagged Search Trends\", \"Hourly Stock Return\"]].corr()"
   ],
   "outputs": [],
   "metadata": {}
  },
  {
   "cell_type": "markdown",
   "source": [
    "##### Answer the following question:\n"
   ],
   "metadata": {}
  },
  {
   "cell_type": "markdown",
   "source": [
    "**Question:** Does a predictable relationship exist between the lagged search traffic and the stock volatility or between the lagged search traffic and the stock price returns?\r\n",
    "\r\n",
    "**Answer:** There is a negative correlation between the Lagged Search Trends and Stock Volatility of -14.89%."
   ],
   "metadata": {}
  },
  {
   "cell_type": "markdown",
   "source": [
    "## Step 4: Create a Time Series Model with Prophet\n",
    "\n",
    "Now, you need to produce a time series model that analyzes and forecasts patterns in the hourly search data. To do so, complete the following steps:\n",
    "\n",
    "1. Set up the Google search data for a Prophet forecasting model.\n",
    "\n",
    "2. After estimating the model, plot the forecast. How's the near-term forecast for the popularity of MercadoLibre?\n",
    "\n",
    "3. Plot the individual time series components of the model to answer the following questions:\n",
    "\n",
    "    * What time of day exhibits the greatest popularity?\n",
    "\n",
    "    * Which day of the week gets the most search traffic?\n",
    "\n",
    "    * What's the lowest point for search traffic in the calendar year?\n"
   ],
   "metadata": {}
  },
  {
   "cell_type": "markdown",
   "source": [
    "#### Step 1: Set up the Google search data for a Prophet forecasting model."
   ],
   "metadata": {}
  },
  {
   "cell_type": "code",
   "execution_count": null,
   "source": [
    "# Using the df_mercado_trends DataFrame, reset the index so the date information is no longer the index\r\n",
    "mercado_prophet_df = df_mercado_trends.reset_index()\r\n",
    "\r\n",
    "# Label the columns ds and y so that the syntax is recognized by Prophet\r\n",
    "mercado_prophet_df.columns = [\"ds\", \"y\"]\r\n",
    "\r\n",
    "# Drop an NaN values from the prophet_df DataFrame\r\n",
    "mercado_prophet_df = mercado_prophet_df.dropna()\r\n",
    "\r\n",
    "# View the first and last five rows of the mercado_prophet_df DataFrame\r\n",
    "display(mercado_prophet_df.head())\r\n",
    "display(mercado_prophet_df.tail())"
   ],
   "outputs": [],
   "metadata": {}
  },
  {
   "cell_type": "code",
   "execution_count": null,
   "source": [
    "# Call the Prophet function, store as an object\r\n",
    "model_mercado_trends = Prophet()"
   ],
   "outputs": [],
   "metadata": {}
  },
  {
   "cell_type": "code",
   "execution_count": null,
   "source": [
    "# Fit the time-series model.\r\n",
    "model_mercado_trends.fit(mercado_prophet_df)"
   ],
   "outputs": [],
   "metadata": {}
  },
  {
   "cell_type": "code",
   "execution_count": null,
   "source": [
    "# Create a future dataframe to hold predictions\r\n",
    "# Make the prediction go out as far as 2000 hours (approx 80 days)\r\n",
    "future_mercado_trends = model_mercado_trends.make_future_dataframe(periods=2000, freq=\"H\")\r\n",
    "\r\n",
    "# View the last five rows of the future_mercado_trends DataFrame\r\n",
    "future_mercado_trends.tail()"
   ],
   "outputs": [],
   "metadata": {}
  },
  {
   "cell_type": "code",
   "execution_count": null,
   "source": [
    "# Make the predictions for the trend data using the future_mercado_trends DataFrame\r\n",
    "forecast_mercado_trends = model_mercado_trends.predict(future_mercado_trends)\r\n",
    "\r\n",
    "# Display the first five rows of the forecast_mercado_trends DataFrame\r\n",
    "forecast_mercado_trends.head()"
   ],
   "outputs": [],
   "metadata": {}
  },
  {
   "cell_type": "markdown",
   "source": [
    "#### Step 2: After estimating the model, plot the forecast. How's the near-term forecast for the popularity of MercadoLibre?"
   ],
   "metadata": {}
  },
  {
   "cell_type": "code",
   "execution_count": null,
   "source": [
    "# Plot the Prophet predictions for the Mercado trends data\r\n",
    "model_mercado_trends.plot(forecast_mercado_trends, figsize=(20, 10))"
   ],
   "outputs": [],
   "metadata": {}
  },
  {
   "cell_type": "markdown",
   "source": [
    "##### Answer the following question:"
   ],
   "metadata": {}
  },
  {
   "cell_type": "markdown",
   "source": [
    "**Question:**  How's the near-term forecast for the popularity of MercadoLibre?\r\n",
    "\r\n",
    "**Answer:** Near-term popularity seems to increase for MercadoLibre from Q4 2020.\r\n"
   ],
   "metadata": {}
  },
  {
   "cell_type": "markdown",
   "source": [
    "#### Step 3: Plot the individual time series components of the model to answer the following questions:\r\n",
    "\r\n",
    "* What time of day exhibits the greatest popularity?\r\n",
    "\r\n",
    "* Which day of the week gets the most search traffic?\r\n",
    "\r\n",
    "* What's the lowest point for search traffic in the calendar year?\r\n"
   ],
   "metadata": {}
  },
  {
   "cell_type": "code",
   "execution_count": null,
   "source": [
    "# Set the index in the forecast_mercado_trends DataFrame to the ds datetime column\r\n",
    "forecast_mercado_trends = forecast_mercado_trends.set_index(\"ds\")\r\n",
    "\r\n",
    "# View the only the yhat,yhat_lower and yhat_upper columns from the DataFrame\r\n",
    "forecast_mercado_trends[[\"yhat\", \"yhat_lower\", \"yhat_upper\"]]"
   ],
   "outputs": [],
   "metadata": {}
  },
  {
   "cell_type": "markdown",
   "source": [
    "Solutions Note: `yhat` represents the most likely (average) forecast, whereas `yhat_lower` and `yhat_upper` represents the worst and best case prediction (based on what are known as 95% confidence intervals)."
   ],
   "metadata": {}
  },
  {
   "cell_type": "code",
   "execution_count": null,
   "source": [
    "# Holoviews extension to render hvPlots in Colab\r\n",
    "hv.extension('bokeh')\r\n",
    "\r\n",
    "# From the forecast_mercado_trends DataFrame, use hvPlot to visualize\r\n",
    "#  the yhat, yhat_lower, and yhat_upper columns over the last 2000 hours \r\n",
    "forecast_mercado_trends[[\"yhat\", \"yhat_lower\", \"yhat_upper\"]].iloc[-2000:,].rolling(window=24).mean().hvplot(\r\n",
    "    title=\"Forecast Trends for Mercado, 24-hour Moving Average\",\r\n",
    "    height=500,\r\n",
    "    width=1000\r\n",
    ")"
   ],
   "outputs": [],
   "metadata": {}
  },
  {
   "cell_type": "code",
   "execution_count": null,
   "source": [
    "# Reset the index in the forecast_mercado_trends DataFrame\r\n",
    "forecast_mercado_trends = forecast_mercado_trends.reset_index()\r\n",
    "\r\n",
    "# Use the plot_components function to visualize the forecast results \r\n",
    "# for the forecast_canada DataFrame \r\n",
    "figures_mercado_trends = model_mercado_trends.plot_components(forecast_mercado_trends)"
   ],
   "outputs": [],
   "metadata": {}
  },
  {
   "cell_type": "markdown",
   "source": [
    "##### Answer the following questions:"
   ],
   "metadata": {}
  },
  {
   "cell_type": "markdown",
   "source": [
    "**Question:** What time of day exhibits the greatest popularity?\r\n",
    "\r\n",
    "**Answer:** Peak popularity midnight or 00.00 hours."
   ],
   "metadata": {}
  },
  {
   "cell_type": "markdown",
   "source": [
    "**Question:** Which day of week gets the most search traffic? \r\n",
    "   \r\n",
    "**Answer:** Peak popularity is Tuesday, and slowly trails down from there."
   ],
   "metadata": {}
  },
  {
   "cell_type": "markdown",
   "source": [
    "**Question:** What's the lowest point for search traffic in the calendar year?\r\n",
    "\r\n",
    "**Answer:** The lowest point for traffic in the calendar year is October.\r\n"
   ],
   "metadata": {}
  },
  {
   "cell_type": "markdown",
   "source": [
    "## Step 5 (Optional): Forecast Revenue by Using Time Series Models\n",
    "\n",
    "A few weeks after your initial analysis, the finance group follows up to find out if you can help them solve a different problem. Your fame as a growth analyst in the company continues to grow!\n",
    "\n",
    "Specifically, the finance group wants a forecast of the total sales for the next quarter. This will dramatically increase their ability to plan budgets and to help guide expectations for the company investors.\n",
    "\n",
    "To do so, complete the following steps:\n",
    "\n",
    "1. Read in the daily historical sales (that is, revenue) figures, and then apply a Prophet model to the data. The daily sales figures are quoted in millions of USD dollars.\n",
    "\n",
    "2. Interpret the model output to identify any seasonal patterns in the company's revenue. For example, what are the peak revenue days? (Mondays? Fridays? Something else?)\n",
    "\n",
    "3. Produce a sales forecast for the finance group. Give them a number for the expected total sales in the next quarter. Include the best- and worst-case scenarios to help them make better plans.\n",
    "\n",
    "\n"
   ],
   "metadata": {}
  },
  {
   "cell_type": "markdown",
   "source": [
    "#### Step 1: Read in the daily historical sales (that is, revenue) figures, and then apply a Prophet model to the data."
   ],
   "metadata": {}
  },
  {
   "cell_type": "code",
   "execution_count": null,
   "source": [
    "# Upload the \"mercado_daily_revenue.csv\" file into Colab, then store in a Pandas DataFrame\r\n",
    "# Set the \"date\" column as the DatetimeIndex\r\n",
    "# Sales are quoted in millions of US dollars\r\n",
    "from google.colab import files\r\n",
    "uploaded = files.upload()\r\n",
    "\r\n",
    "df_mercado_sales = pd.read_csv(\r\n",
    "    \"mercado_daily_revenue.csv\",\r\n",
    "    index_col=\"date\",\r\n",
    "    parse_dates=True,\r\n",
    "    infer_datetime_format=True\r\n",
    ")\r\n",
    "\r\n",
    "# Review the DataFrame\r\n",
    "df_mercado_sales"
   ],
   "outputs": [],
   "metadata": {}
  },
  {
   "cell_type": "code",
   "execution_count": null,
   "source": [
    "# Holoviews extension to render hvPlots in Colab\r\n",
    "hv.extension('bokeh')\r\n",
    "\r\n",
    "# Use hvPlot to visualize the daily sales figures \r\n",
    "df_mercado_sales.hvplot(\r\n",
    "    title=\"Mercado Daily Sales Figures | 2019-2020\",\r\n",
    "    color=\"green\",\r\n",
    "    xlabel=\"Date\",\r\n",
    "    width=800\r\n",
    "    )"
   ],
   "outputs": [],
   "metadata": {}
  },
  {
   "cell_type": "code",
   "execution_count": null,
   "source": [
    "# Apply a Facebook Prophet model to the data.\r\n",
    "\r\n",
    "# Set up the dataframe in the neccessary format:\r\n",
    "# Reset the index so that date becomes a column in the DataFrame\r\n",
    "mercado_sales_prophet_df = df_mercado_sales.reset_index()\r\n",
    "\r\n",
    "# Adjust the columns names to the Prophet syntax\r\n",
    "mercado_sales_prophet_df.columns = [\"ds\", \"y\"]\r\n",
    "\r\n",
    "# Visualize the DataFrame\r\n",
    "mercado_sales_prophet_df"
   ],
   "outputs": [],
   "metadata": {}
  },
  {
   "cell_type": "code",
   "execution_count": null,
   "source": [
    "# Create the model\r\n",
    "mercado_sales_prophet_model = Prophet(daily_seasonality=True, yearly_seasonality=True)\r\n",
    "\r\n",
    "# Fit the model\r\n",
    "mercado_sales_prophet_model.fit(mercado_sales_prophet_df)"
   ],
   "outputs": [],
   "metadata": {}
  },
  {
   "cell_type": "code",
   "execution_count": null,
   "source": [
    "# Predict sales for 90 days (1 quarter) out into the future.\r\n",
    "\r\n",
    "# Start by making a future dataframe\r\n",
    "mercado_sales_prophet_future = mercado_sales_prophet_model.make_future_dataframe(periods=90, freq=\"D\")\r\n",
    "\r\n",
    "# Display the last five rows of the future DataFrame\r\n",
    "mercado_sales_prophet_future.tail()"
   ],
   "outputs": [],
   "metadata": {}
  },
  {
   "cell_type": "code",
   "execution_count": null,
   "source": [
    "# Make predictions for the sales each day over the next quarter\r\n",
    "mercado_sales_prophet_forecast = mercado_sales_prophet_model.predict(mercado_sales_prophet_future)\r\n",
    "\r\n",
    "# Display the first 5 rows of the resulting DataFrame\r\n",
    "mercado_sales_prophet_forecast.head()"
   ],
   "outputs": [],
   "metadata": {}
  },
  {
   "cell_type": "markdown",
   "source": [
    "#### Step 2: Interpret the model output to identify any seasonal patterns in the company's revenue. For example, what are the peak revenue days? (Mondays? Fridays? Something else?)"
   ],
   "metadata": {}
  },
  {
   "cell_type": "code",
   "execution_count": null,
   "source": [
    "# Use the plot_components function to analyze seasonal patterns in the company's revenue\r\n",
    "figures_mercado_sales = mercado_sales_prophet_model.plot_components(mercado_sales_prophet_forecast)"
   ],
   "outputs": [],
   "metadata": {}
  },
  {
   "cell_type": "markdown",
   "source": [
    "##### Answer the following question:"
   ],
   "metadata": {}
  },
  {
   "cell_type": "markdown",
   "source": [
    "**Question:** For example, what are the peak revenue days? (Mondays? Fridays? Something else?)\r\n",
    "\r\n",
    "**Answer:** Peak revenue days pickup from Monday and peak on Wednesday."
   ],
   "metadata": {}
  },
  {
   "cell_type": "markdown",
   "source": [
    "#### Step 3: Produce a sales forecast for the finance group. Give them a number for the expected total sales in the next quarter. Include the best- and worst-case scenarios to help them make better plans."
   ],
   "metadata": {}
  },
  {
   "cell_type": "code",
   "execution_count": null,
   "source": [
    "# Plot the predictions for the Mercado sales\r\n",
    "mercado_sales_prophet_model.plot(mercado_sales_prophet_forecast)"
   ],
   "outputs": [],
   "metadata": {}
  },
  {
   "cell_type": "code",
   "execution_count": null,
   "source": [
    "# For the mercado_sales_prophet_forecast DataFrame, set the ds column as the DataFrame Index\r\n",
    "mercado_sales_prophet_forecast = mercado_sales_prophet_forecast.set_index(\"ds\")\r\n",
    "\r\n",
    "# Display the first and last five rows of the DataFrame\r\n",
    "display(mercado_sales_prophet_forecast.head())\r\n",
    "display(mercado_sales_prophet_forecast.tail())"
   ],
   "outputs": [],
   "metadata": {}
  },
  {
   "cell_type": "code",
   "execution_count": null,
   "source": [
    "# Produce a sales forecast for the finance division\r\n",
    "# giving them a number for expected total sales next quarter.\r\n",
    "# Provide best case (yhat_upper), worst case (yhat_lower), and most likely (yhat) scenarios.\r\n",
    "\r\n",
    "# Create a forecast_quarter Dataframe for the period 2020-07-01 to 2020-09-30\r\n",
    "# The DataFrame should include the columns yhat_upper, yhat_lower, and yhat\r\n",
    "mercado_sales_forecast_quarter = mercado_sales_prophet_forecast[[\"yhat_upper\", \"yhat_lower\", \"yhat\" ]].loc[\"2020-07-01\":\"2020-09-30\"]\r\n",
    "\r\n",
    "# Update the column names for the forecast_quarter DataFrame\r\n",
    "# to match what the finance division is looking for \r\n",
    "mercado_sales_forecast_quarter.columns = [\"Best Case\", \"Worst Case\", \"Most Likely Scenario\"]\r\n",
    "\r\n",
    "# Review the last five rows of the DataFrame\r\n",
    "mercado_sales_forecast_quarter.tail()"
   ],
   "outputs": [],
   "metadata": {}
  },
  {
   "cell_type": "code",
   "execution_count": null,
   "source": [
    "# Displayed the summed values for all the rows in the forecast_quarter DataFrame\r\n",
    "mercado_sales_forecast_quarter.sum()"
   ],
   "outputs": [],
   "metadata": {}
  },
  {
   "cell_type": "markdown",
   "source": [
    "### Based on the forecast information generated above, produce a sales forecast for the finance division, giving them a number for expected total sales next quarter. Include best and worst case scenarios, to better help the finance team plan.\r\n",
    "\r\n",
    "**Answer:** If we knock it out of the park, we're on track to generate 1042M. Worst case scenario we'll be hitting 885M. We'll most likely be seeing sales of around 963M."
   ],
   "metadata": {}
  },
  {
   "cell_type": "code",
   "execution_count": null,
   "source": [],
   "outputs": [],
   "metadata": {}
  }
 ],
 "metadata": {
  "kernelspec": {
   "display_name": "Python (dev)",
   "language": "python",
   "name": "dev"
  },
  "language_info": {
   "codemirror_mode": {
    "name": "ipython",
    "version": 3
   },
   "file_extension": ".py",
   "mimetype": "text/x-python",
   "name": "python",
   "nbconvert_exporter": "python",
   "pygments_lexer": "ipython3",
   "version": "3.7.7"
  }
 },
 "nbformat": 4,
 "nbformat_minor": 4
}